{
 "cells": [
  {
   "cell_type": "code",
   "execution_count": 23,
   "metadata": {},
   "outputs": [],
   "source": [
    "# to fix path issues when running as a notebook is vscode\n",
    "import sys\n",
    "\n",
    "sys.path.insert(0, \"../..\")"
   ]
  },
  {
   "cell_type": "code",
   "execution_count": 24,
   "metadata": {},
   "outputs": [],
   "source": [
    "import httpx \n",
    "import ipaddress\n",
    "import json\n",
    "from app.schemas import Threat\n",
    "from uuid import uuid4\n",
    "from datetime import datetime\n",
    "from app.database import get_db\n",
    "from app.models import Threat as SQLAThreat"
   ]
  },
  {
   "cell_type": "code",
   "execution_count": 25,
   "metadata": {},
   "outputs": [],
   "source": [
    "# container to hold threat data\n",
    "threats = []"
   ]
  },
  {
   "cell_type": "code",
   "execution_count": 26,
   "metadata": {},
   "outputs": [],
   "source": [
    "source = \"https://rules.emergingthreats.net/fwrules/emerging-Block-IPs.txt\"\n",
    "res = httpx.get(source)"
   ]
  },
  {
   "cell_type": "code",
   "execution_count": 27,
   "metadata": {},
   "outputs": [],
   "source": [
    "\n",
    "# This file is a text file with addresses on each new line\n",
    "lines = res.text.split(\"\\n\")\n",
    "\n",
    "# Parse out the comments and blank lines\n",
    "lines = filter(lambda x: False if '#' in x or x == '' else True, lines )\n",
    "lines = list(lines)\n",
    "# Get rid of CIDR notation\n",
    "lines = [x.split(\"/\")[0] for x in lines]"
   ]
  },
  {
   "cell_type": "code",
   "execution_count": 28,
   "metadata": {},
   "outputs": [
    {
     "name": "stdout",
     "output_type": "stream",
     "text": [
      "Emerging Threats FW Rules IP Blocklist:\n",
      "1389 lines downloaded. 1389 IP addressed parsed. 0 failed to parse\n"
     ]
    }
   ],
   "source": [
    "badly_parsed = []\n",
    "parsed = []\n",
    "\n",
    "# Validate IP address\n",
    "for ip in lines:\n",
    "    try:\n",
    "        ipaddress.ip_address(ip)\n",
    "        parsed.append(ip)\n",
    "    except ValueError as e:\n",
    "        badly_parsed.append(ip)\n",
    "\n",
    "print(\"Emerging Threats FW Rules IP Blocklist:\")\n",
    "print(f\"{len(lines)} lines downloaded. {len(parsed)} IP addressed parsed. {len(badly_parsed)} failed to parse\")"
   ]
  },
  {
   "cell_type": "code",
   "execution_count": 29,
   "metadata": {},
   "outputs": [],
   "source": [
    "for ip in parsed:\n",
    "    threats.append(Threat(id=uuid4(), ipv4=ip, date=datetime.now(), source=source, original_data=None, url=None))"
   ]
  },
  {
   "cell_type": "code",
   "execution_count": 30,
   "metadata": {},
   "outputs": [],
   "source": [
    "source = \"https://feodotracker.abuse.ch/downloads/ipblocklist.json\"\n",
    "res = httpx.get(source)\n",
    "r = res.json()"
   ]
  },
  {
   "cell_type": "code",
   "execution_count": 31,
   "metadata": {},
   "outputs": [
    {
     "name": "stdout",
     "output_type": "stream",
     "text": [
      "Feodotracker IP Blocklist:\n",
      "3 ips found\n"
     ]
    }
   ],
   "source": [
    "print(\"Feodotracker IP Blocklist:\")\n",
    "print(f\"{len(r)} ips found\")"
   ]
  },
  {
   "cell_type": "code",
   "execution_count": 32,
   "metadata": {},
   "outputs": [],
   "source": [
    "for result in r:\n",
    "    threats.append(Threat(\n",
    "        id=uuid4(),\n",
    "        ipv4=result['ip_address'],\n",
    "        url=None,\n",
    "        date=datetime.now(),\n",
    "        source=source,\n",
    "        original_data=json.dumps(result)\n",
    "    ))"
   ]
  },
  {
   "cell_type": "code",
   "execution_count": 33,
   "metadata": {},
   "outputs": [],
   "source": [
    "source = \"https://urlhaus.abuse.ch/downloads/json_online/\"\n",
    "res = httpx.get(source)\n",
    "r = res.json()"
   ]
  },
  {
   "cell_type": "code",
   "execution_count": 34,
   "metadata": {},
   "outputs": [
    {
     "name": "stdout",
     "output_type": "stream",
     "text": [
      "Urlhaus url blocklist\n",
      "10954 urls found\n"
     ]
    }
   ],
   "source": [
    "print(\"Urlhaus url blocklist\")\n",
    "print(f\"{len(r)} urls found\")"
   ]
  },
  {
   "cell_type": "code",
   "execution_count": 35,
   "metadata": {},
   "outputs": [],
   "source": [
    "\n",
    "for k,v in r.items():\n",
    "    info = v[0]\n",
    "    threats.append(Threat(\n",
    "        id=uuid4(),\n",
    "        ipv4=None,\n",
    "        url=info['url'],\n",
    "        date=datetime.now(),\n",
    "        source=source,\n",
    "        original_data=json.dumps(info)\n",
    "    ))"
   ]
  },
  {
   "cell_type": "code",
   "execution_count": 36,
   "metadata": {},
   "outputs": [],
   "source": [
    "# Get all unique urls and ips in the treat database so we don't duplicate data.\n",
    "db = next(get_db())\n",
    "\n",
    "seen_urls = {url[0] for url in db.query(SQLAThreat.url).distinct()}\n",
    "seen_ips = {ip[0] for ip in db.query(SQLAThreat.ipv4).distinct() if ip[0] is not None}"
   ]
  },
  {
   "cell_type": "code",
   "execution_count": 37,
   "metadata": {},
   "outputs": [
    {
     "name": "stdout",
     "output_type": "stream",
     "text": [
      "Removing duplicate data\n"
     ]
    }
   ],
   "source": [
    "print(\"Removing duplicate data\")"
   ]
  },
  {
   "cell_type": "code",
   "execution_count": 38,
   "metadata": {},
   "outputs": [],
   "source": [
    "# Deduplication algorithm. Could have done at each data ingestion phase for speed, but this is easier to read and maintain.\n",
    "deduplicated_threats = []\n",
    "for threat in threats:\n",
    "    if threat.url not in seen_urls:\n",
    "        if threat.ipv4 not in seen_ips:\n",
    "            if threat.ipv4:\n",
    "                seen_ips.add(threat.ipv4)\n",
    "            if threat.url:\n",
    "                seen_urls.add(threat.url)\n",
    "\n",
    "            deduplicated_threats.append(threat)\n",
    "    "
   ]
  },
  {
   "cell_type": "code",
   "execution_count": 39,
   "metadata": {},
   "outputs": [
    {
     "name": "stdout",
     "output_type": "stream",
     "text": [
      "14 new threats to be added to the database\n"
     ]
    }
   ],
   "source": [
    "print(f\"{len(deduplicated_threats)} new threats to be added to the database\")"
   ]
  },
  {
   "cell_type": "code",
   "execution_count": 40,
   "metadata": {},
   "outputs": [],
   "source": [
    "\n",
    "# Convert Threats into ORM objects\n",
    "db_threats = [\n",
    "    SQLAThreat(\n",
    "        id=str(threat.id),\n",
    "        ipv4=threat.ipv4,\n",
    "        url=threat.url,\n",
    "        date=threat.date,\n",
    "        source=threat.source,\n",
    "        original_data=(\n",
    "            json.dumps(threat.original_data) if threat.original_data else None\n",
    "        ),\n",
    "        abuseIPDBData=(\n",
    "            json.dumps(threat.abuseIPDBData) if threat.abuseIPDBData else None\n",
    "        ),\n",
    "    )\n",
    "    for threat in deduplicated_threats\n",
    "]\n",
    "\n",
    "# Add them to the database\n",
    "db.add_all(db_threats)\n",
    "\n",
    "\n",
    "db.commit()"
   ]
  },
  {
   "cell_type": "code",
   "execution_count": 41,
   "metadata": {},
   "outputs": [
    {
     "name": "stdout",
     "output_type": "stream",
     "text": [
      "Threats added\n"
     ]
    }
   ],
   "source": [
    "print(\"Threats added\")"
   ]
  },
  {
   "cell_type": "code",
   "execution_count": 42,
   "metadata": {},
   "outputs": [],
   "source": [
    "db.close()"
   ]
  }
 ],
 "metadata": {
  "kernelspec": {
   "display_name": "venv",
   "language": "python",
   "name": "python3"
  },
  "language_info": {
   "codemirror_mode": {
    "name": "ipython",
    "version": 3
   },
   "file_extension": ".py",
   "mimetype": "text/x-python",
   "name": "python",
   "nbconvert_exporter": "python",
   "pygments_lexer": "ipython3",
   "version": "3.12.8"
  }
 },
 "nbformat": 4,
 "nbformat_minor": 2
}
